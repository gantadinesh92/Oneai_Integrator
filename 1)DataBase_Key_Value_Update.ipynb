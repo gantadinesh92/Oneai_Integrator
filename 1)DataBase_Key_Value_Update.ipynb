{
 "cells": [
  {
   "cell_type": "markdown",
   "metadata": {},
   "source": [
    "# Update the Key ,Value, Type in Postgresql "
   ]
  },
  {
   "cell_type": "code",
   "execution_count": 1,
   "metadata": {},
   "outputs": [],
   "source": [
    "import warnings\n",
    "warnings.filterwarnings(\"ignore\")\n",
    "\n",
    "import pandas as pd\n",
    "import numpy as np\n",
    "import psycopg2,os,csv\n",
    "\n",
    "from IPython.display import display\n",
    "pd.options.display.max_columns = None\n",
    "\n",
    "conn = psycopg2.connect(\"dbname=postgres user=postgres password=Msjobs@123\")\n",
    "\n",
    "\n",
    "def insert_data(key_,value_,type_):\n",
    "    cur = conn.cursor()\n",
    "    sql_command = \"INSERT INTO public.lct_ml_key_value(key_,value_,type_) VALUES('{}','{}','{}');\".format(str(key_), str(value_),str(type_))\n",
    "    cur.execute(sql_command)\n",
    "    conn.commit()\n",
    "    cur.close() \n",
    "    \n",
    "def csv_to_DB(df):\n",
    "    test_df  = pd.DataFrame()\n",
    "    test_df1 = pd.DataFrame()\n",
    "\n",
    "    test_df['data']   = df[df.columns[0]].replace(\"'\",\"\").astype(str)\n",
    "    test_df['result'] = df.columns[0] #[test.columns[0],test.columns[0]] \n",
    "\n",
    "    for i in df.columns[1:]:\n",
    "        test_df1['data'] = df[i].astype(str).str.replace(\"'\",\"\")\n",
    "        test_df = test_df.append(test_df1,ignore_index=True)\n",
    "        test_df.result.fillna(i.replace(\" \", \"_\"),inplace=True)\n",
    "    test_df = test_df[test_df.data!='nan']\n",
    "    \n",
    "    return test_df\n",
    "\n",
    "def DB_insert(test_df,type_):\n",
    "    for i in range(len(test_df)):\n",
    "        key_ = test_df.iloc[i][1]\n",
    "        value_ = test_df.iloc[i][0]\n",
    "        insert_data(key_,value_,type_)"
   ]
  },
  {
   "cell_type": "markdown",
   "metadata": {},
   "source": [
    "# flask app"
   ]
  },
  {
   "cell_type": "code",
   "execution_count": 2,
   "metadata": {},
   "outputs": [
    {
     "name": "stdout",
     "output_type": "stream",
     "text": [
      " * Serving Flask app \"__main__\" (lazy loading)\n",
      " * Environment: production\n",
      "   WARNING: This is a development server. Do not use it in a production deployment.\n",
      "   Use a production WSGI server instead.\n",
      " * Debug mode: off\n"
     ]
    },
    {
     "name": "stderr",
     "output_type": "stream",
     "text": [
      " * Running on http://127.0.0.1:5001/ (Press CTRL+C to quit)\n",
      "127.0.0.1 - - [13/Jul/2020 17:24:19] \"\u001b[37mGET / HTTP/1.1\u001b[0m\" 200 -\n"
     ]
    },
    {
     "name": "stdout",
     "output_type": "stream",
     "text": [
      "location.csv location\n"
     ]
    },
    {
     "name": "stderr",
     "output_type": "stream",
     "text": [
      "127.0.0.1 - - [13/Jul/2020 17:24:55] \"\u001b[37mPOST / HTTP/1.1\u001b[0m\" 200 -\n"
     ]
    }
   ],
   "source": [
    "from flask import Flask, request, render_template, session, redirect\n",
    "\n",
    "app = Flask(__name__)\n",
    "\n",
    "@app.route('/')\n",
    "def my_form():\n",
    "    return render_template('DB_update/DB_update.html')\n",
    "\n",
    "@app.route('/', methods=(\"POST\", \"GET\"))\n",
    "def html_table():\n",
    "    if request.method == 'POST':\n",
    "        try:\n",
    "            myfile = request.form['myfile']\n",
    "            type_ = request.form['type_']\n",
    "            print(myfile,type_)\n",
    "            \n",
    "            file_name = 'Train_Data/'+myfile\n",
    "            df_csv = pd.read_csv(file_name)\n",
    "            df = csv_to_DB(df_csv)\n",
    "#             df = df.drop_duplicates()\n",
    "            DB_insert(df,type_)\n",
    "\n",
    "            test_df =pd.DataFrame(df.result.value_counts())\n",
    "            test_df1 = df.groupby('result').first()\n",
    "        except ValueError:\n",
    "            return \"Please check if the values are entered correctly\"\n",
    "\n",
    "    return render_template('DB_update/Inserted_Data.html',  tables=[test_df.to_html(classes='data')],tables1=[test_df1.to_html(classes='data')])\n",
    "\n",
    "if __name__ == '__main__':\n",
    "    app.run(host = '127.0.0.1', port='5001',threaded=False)"
   ]
  },
  {
   "cell_type": "markdown",
   "metadata": {},
   "source": [
    "# Testing"
   ]
  },
  {
   "cell_type": "code",
   "execution_count": 2,
   "metadata": {},
   "outputs": [],
   "source": [
    "# def select_data():\n",
    "#     cur = conn.cursor()\n",
    "#     sql_command = \"select * from public.lct_ml_key_value;\"\n",
    "#     data = pd.read_sql(sql_command, conn)\n",
    "#     conn.commit()\n",
    "#     cur.close()\n",
    "#     return data    \n",
    "\n",
    "# def select_data_type(type_):\n",
    "#     cur = conn.cursor()\n",
    "#     sql_command = \"select * from public.lct_ml_key_value where type_ ='\"+type_+\"'\"\n",
    "#     data = pd.read_sql(sql_command, conn)\n",
    "#     conn.commit()\n",
    "#     cur.close()\n",
    "#     return data \n",
    "\n",
    "# df = pd.read_csv(\"Train_Data/sites.factory2020-07-04T02_44_21.921.csv\")"
   ]
  },
  {
   "cell_type": "code",
   "execution_count": 6,
   "metadata": {},
   "outputs": [],
   "source": [
    "# test_df = csv_to_DB(df)\n",
    "# type_ = \"location\"\n",
    "# DB_insert(test_df,type_)"
   ]
  },
  {
   "cell_type": "code",
   "execution_count": 1,
   "metadata": {},
   "outputs": [],
   "source": [
    "# from flask import Flask, request, render_template, session, redirect\n",
    "# ### working code -- which displays the DataFrame\n",
    "\n",
    "# app = Flask(__name__)\n",
    "\n",
    "# @app.route('/')\n",
    "# def my_form():\n",
    "#     return render_template('DB_update_select.html')\n",
    "\n",
    "# @app.route('/', methods=(\"POST\", \"GET\"))\n",
    "# def html_table():\n",
    "#     if request.method == 'POST':\n",
    "#         try:\n",
    "#             type_ = request.form['type_']\n",
    "#             key_ = request.form['key_']\n",
    "#             value_ = request.form['value_']\n",
    "#             print(type_,key_,value_)\n",
    "#             df = select_data_type(type_)\n",
    "#         except ValueError:\n",
    "#             return \"Please check if the values are entered correctly\"\n",
    "\n",
    "#     return render_template('Predict_Confidence.html',  tables=[df.to_html(classes='data')])\n",
    "\n",
    "# if __name__ == '__main__':\n",
    "#     app.run()"
   ]
  },
  {
   "cell_type": "code",
   "execution_count": null,
   "metadata": {},
   "outputs": [],
   "source": [
    "# Key_ = '' #Insert the key which is a category in my case \n",
    "# Value_ '' # Insert the value for the corresponding category \n",
    "# Tye_ = '' # Type of data i.e., Location ,Purchase order\n",
    "\n",
    "# insert_data(Key_,Value_,Tye_)"
   ]
  },
  {
   "cell_type": "code",
   "execution_count": 1,
   "metadata": {},
   "outputs": [],
   "source": [
    "# df = select_data()\n",
    "# df.head()"
   ]
  },
  {
   "cell_type": "code",
   "execution_count": 2,
   "metadata": {},
   "outputs": [],
   "source": [
    "# type_list = set(df.type_)\n",
    "# type_list"
   ]
  },
  {
   "cell_type": "code",
   "execution_count": 1,
   "metadata": {},
   "outputs": [],
   "source": [
    "# df_type_based = select_data_type('location')\n",
    "# df_type_based.head()"
   ]
  },
  {
   "cell_type": "code",
   "execution_count": 15,
   "metadata": {},
   "outputs": [],
   "source": [
    "# pd.DataFrame(csv_to_DB().result.value_counts())\n",
    "\n",
    "# csv_to_DB().groupby('result').first()"
   ]
  }
 ],
 "metadata": {
  "kernelspec": {
   "display_name": "Python 3",
   "language": "python",
   "name": "python3"
  },
  "language_info": {
   "codemirror_mode": {
    "name": "ipython",
    "version": 3
   },
   "file_extension": ".py",
   "mimetype": "text/x-python",
   "name": "python",
   "nbconvert_exporter": "python",
   "pygments_lexer": "ipython3",
   "version": "3.6.10"
  }
 },
 "nbformat": 4,
 "nbformat_minor": 2
}
